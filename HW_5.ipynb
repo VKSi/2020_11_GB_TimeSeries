{
  "cells": [
    {
      "cell_type": "markdown",
      "metadata": {
        "id": "view-in-github",
        "colab_type": "text"
      },
      "source": [
        "<a href=\"https://colab.research.google.com/github/VKSi/2020_11_GB_TimeSeries/blob/main/HW_5.ipynb\" target=\"_parent\"><img src=\"https://colab.research.google.com/assets/colab-badge.svg\" alt=\"Open In Colab\"/></a>"
      ]
    },
    {
      "cell_type": "markdown",
      "metadata": {
        "id": "_KNNkp39zDO3"
      },
      "source": [
        "# Временные ряды 5. Поиск аномалий и особенные случаи обработки"
      ]
    },
    {
      "cell_type": "markdown",
      "metadata": {
        "id": "NnxE2qSszDO7"
      },
      "source": [
        "## Коинтегральные ряды"
      ]
    },
    {
      "cell_type": "markdown",
      "metadata": {
        "id": "uSaIwIpqzDO7"
      },
      "source": [
        "## Задание\n",
        "\n",
        "1. Прочитайте базу my_BRENT2019.csv и перейдите к представлению ряда первыми разностями\n",
        "2. Добавьте первые разности по стоимости доллара и евро к рублю\n",
        "3. сделайте ее перрасчет (ресемплинг) в представление по неделям. \n",
        "4. Постройте модель предсказания 1-й точки от текущей (h=1).\n",
        "\n",
        "5. Сделайте вывод о поведении ошибки предсказания ряда в сравнении с прямым прогнозированием."
      ]
    },
    {
      "cell_type": "markdown",
      "metadata": {
        "id": "pJqrvJMZzDO8"
      },
      "source": [
        "## Ответы"
      ]
    },
    {
      "cell_type": "markdown",
      "metadata": {
        "id": "cs0HNrVLzDO8"
      },
      "source": [
        "### Задание №1"
      ]
    },
    {
      "cell_type": "markdown",
      "metadata": {
        "id": "ZZxHDhkozDO9"
      },
      "source": [
        "1. Прочитайте базу my_BRENT2019.csv и перейдите к представлению ряда первыми разностями"
      ]
    },
    {
      "cell_type": "code",
      "execution_count": null,
      "metadata": {
        "id": "HWftLfPxzDO9"
      },
      "outputs": [],
      "source": [
        "%matplotlib inline\n",
        "import matplotlib.pyplot as plt\n",
        "\n",
        "import numpy as np \n",
        "import pandas as pd "
      ]
    },
    {
      "cell_type": "code",
      "execution_count": null,
      "metadata": {
        "id": "0gBqbnrOzDO-"
      },
      "outputs": [],
      "source": [
        "data = pd.read_csv('my_BRENT2019.csv', index_col=[0], parse_dates=[0])"
      ]
    },
    {
      "cell_type": "markdown",
      "metadata": {
        "id": "UhqP9p47zDO_"
      },
      "source": [
        "Сразу сделаем ресемплинг из Задания 3"
      ]
    },
    {
      "cell_type": "code",
      "execution_count": null,
      "metadata": {
        "id": "JncFcrDtzDPA"
      },
      "outputs": [],
      "source": [
        "data.rename(columns = {'Значение':'value'}, inplace = True)\n",
        "data.sort_index(inplace = True)\n",
        "data = data[['value']]\n",
        "data = data.asfreq('W', method ='pad')"
      ]
    },
    {
      "cell_type": "code",
      "execution_count": null,
      "metadata": {
        "id": "MKjQCw-4zDPA",
        "outputId": "5073ccd9-9f0c-4259-f45a-8d8c17b11886"
      },
      "outputs": [
        {
          "data": {
            "text/html": [
              "<div>\n",
              "<style scoped>\n",
              "    .dataframe tbody tr th:only-of-type {\n",
              "        vertical-align: middle;\n",
              "    }\n",
              "\n",
              "    .dataframe tbody tr th {\n",
              "        vertical-align: top;\n",
              "    }\n",
              "\n",
              "    .dataframe thead th {\n",
              "        text-align: right;\n",
              "    }\n",
              "</style>\n",
              "<table border=\"1\" class=\"dataframe\">\n",
              "  <thead>\n",
              "    <tr style=\"text-align: right;\">\n",
              "      <th></th>\n",
              "      <th>value</th>\n",
              "    </tr>\n",
              "    <tr>\n",
              "      <th>Дата</th>\n",
              "      <th></th>\n",
              "    </tr>\n",
              "  </thead>\n",
              "  <tbody>\n",
              "    <tr>\n",
              "      <th>2010-09-05</th>\n",
              "      <td>76.63</td>\n",
              "    </tr>\n",
              "    <tr>\n",
              "      <th>2010-09-12</th>\n",
              "      <td>78.36</td>\n",
              "    </tr>\n",
              "    <tr>\n",
              "      <th>2010-09-19</th>\n",
              "      <td>78.23</td>\n",
              "    </tr>\n",
              "    <tr>\n",
              "      <th>2010-09-26</th>\n",
              "      <td>78.94</td>\n",
              "    </tr>\n",
              "    <tr>\n",
              "      <th>2010-10-03</th>\n",
              "      <td>83.69</td>\n",
              "    </tr>\n",
              "  </tbody>\n",
              "</table>\n",
              "</div>"
            ],
            "text/plain": [
              "            value\n",
              "Дата             \n",
              "2010-09-05  76.63\n",
              "2010-09-12  78.36\n",
              "2010-09-19  78.23\n",
              "2010-09-26  78.94\n",
              "2010-10-03  83.69"
            ]
          },
          "execution_count": 375,
          "metadata": {},
          "output_type": "execute_result"
        }
      ],
      "source": [
        "data.head()"
      ]
    },
    {
      "cell_type": "code",
      "execution_count": null,
      "metadata": {
        "id": "CKOPvBTQnybI",
        "outputId": "c41af0fe-7d90-4393-b023-43344391b35f"
      },
      "outputs": [
        {
          "data": {
            "text/plain": [
              "Text(0.5, 0, 't')"
            ]
          },
          "execution_count": 376,
          "metadata": {},
          "output_type": "execute_result"
        },
        {
          "data": {
            "image/png": "[encoded data removed]",
            "text/plain": [
              "<Figure size 1080x504 with 1 Axes>"
            ]
          },
          "metadata": {
            "needs_background": "light"
          },
          "output_type": "display_data"
        }
      ],
      "source": [
        "_ = data.value.plot( style='.', figsize=( 15, 7 ), title='Brent ')\n",
        "plt.ylabel('USA dollar')\n",
        "plt.xlabel('t')"
      ]
    },
    {
      "cell_type": "markdown",
      "metadata": {
        "id": "pautcJp8zDPB"
      },
      "source": [
        "Рассчитаем первые разности"
      ]
    },
    {
      "cell_type": "code",
      "execution_count": null,
      "metadata": {
        "id": "O4_KZv8UzDPC"
      },
      "outputs": [],
      "source": [
        "data.loc[data.index[0], 'diff1'] = 0\n",
        "data.loc[data.index[1:], 'diff1'] = data.loc[data.index[1:], 'value'].values - data.loc[data.index[:-1], 'value'].values"
      ]
    },
    {
      "cell_type": "code",
      "execution_count": null,
      "metadata": {
        "id": "v8rNy3pfzDPC",
        "outputId": "75cab0d7-30ea-49e6-83d2-3c279f18d3a4"
      },
      "outputs": [
        {
          "data": {
            "text/html": [
              "<div>\n",
              "<style scoped>\n",
              "    .dataframe tbody tr th:only-of-type {\n",
              "        vertical-align: middle;\n",
              "    }\n",
              "\n",
              "    .dataframe tbody tr th {\n",
              "        vertical-align: top;\n",
              "    }\n",
              "\n",
              "    .dataframe thead th {\n",
              "        text-align: right;\n",
              "    }\n",
              "</style>\n",
              "<table border=\"1\" class=\"dataframe\">\n",
              "  <thead>\n",
              "    <tr style=\"text-align: right;\">\n",
              "      <th></th>\n",
              "      <th>value</th>\n",
              "      <th>diff1</th>\n",
              "    </tr>\n",
              "    <tr>\n",
              "      <th>Дата</th>\n",
              "      <th></th>\n",
              "      <th></th>\n",
              "    </tr>\n",
              "  </thead>\n",
              "  <tbody>\n",
              "    <tr>\n",
              "      <th>2010-09-05</th>\n",
              "      <td>76.63</td>\n",
              "      <td>0.00</td>\n",
              "    </tr>\n",
              "    <tr>\n",
              "      <th>2010-09-12</th>\n",
              "      <td>78.36</td>\n",
              "      <td>1.73</td>\n",
              "    </tr>\n",
              "    <tr>\n",
              "      <th>2010-09-19</th>\n",
              "      <td>78.23</td>\n",
              "      <td>-0.13</td>\n",
              "    </tr>\n",
              "    <tr>\n",
              "      <th>2010-09-26</th>\n",
              "      <td>78.94</td>\n",
              "      <td>0.71</td>\n",
              "    </tr>\n",
              "    <tr>\n",
              "      <th>2010-10-03</th>\n",
              "      <td>83.69</td>\n",
              "      <td>4.75</td>\n",
              "    </tr>\n",
              "  </tbody>\n",
              "</table>\n",
              "</div>"
            ],
            "text/plain": [
              "            value  diff1\n",
              "Дата                    \n",
              "2010-09-05  76.63   0.00\n",
              "2010-09-12  78.36   1.73\n",
              "2010-09-19  78.23  -0.13\n",
              "2010-09-26  78.94   0.71\n",
              "2010-10-03  83.69   4.75"
            ]
          },
          "execution_count": 378,
          "metadata": {},
          "output_type": "execute_result"
        }
      ],
      "source": [
        "data.head()"
      ]
    },
    {
      "cell_type": "code",
      "execution_count": null,
      "metadata": {
        "id": "auNYI6knzDPC",
        "outputId": "5ad4a3bb-3547-4889-fec9-135d154faca9"
      },
      "outputs": [
        {
          "data": {
            "text/html": [
              "<div>\n",
              "<style scoped>\n",
              "    .dataframe tbody tr th:only-of-type {\n",
              "        vertical-align: middle;\n",
              "    }\n",
              "\n",
              "    .dataframe tbody tr th {\n",
              "        vertical-align: top;\n",
              "    }\n",
              "\n",
              "    .dataframe thead th {\n",
              "        text-align: right;\n",
              "    }\n",
              "</style>\n",
              "<table border=\"1\" class=\"dataframe\">\n",
              "  <thead>\n",
              "    <tr style=\"text-align: right;\">\n",
              "      <th></th>\n",
              "      <th>value</th>\n",
              "      <th>diff1</th>\n",
              "    </tr>\n",
              "    <tr>\n",
              "      <th>Дата</th>\n",
              "      <th></th>\n",
              "      <th></th>\n",
              "    </tr>\n",
              "  </thead>\n",
              "  <tbody>\n",
              "    <tr>\n",
              "      <th>2019-08-04</th>\n",
              "      <td>61.33</td>\n",
              "      <td>-1.72</td>\n",
              "    </tr>\n",
              "    <tr>\n",
              "      <th>2019-08-11</th>\n",
              "      <td>58.27</td>\n",
              "      <td>-3.06</td>\n",
              "    </tr>\n",
              "    <tr>\n",
              "      <th>2019-08-18</th>\n",
              "      <td>58.89</td>\n",
              "      <td>0.62</td>\n",
              "    </tr>\n",
              "    <tr>\n",
              "      <th>2019-08-25</th>\n",
              "      <td>57.81</td>\n",
              "      <td>-1.08</td>\n",
              "    </tr>\n",
              "    <tr>\n",
              "      <th>2019-09-01</th>\n",
              "      <td>58.84</td>\n",
              "      <td>1.03</td>\n",
              "    </tr>\n",
              "  </tbody>\n",
              "</table>\n",
              "</div>"
            ],
            "text/plain": [
              "            value  diff1\n",
              "Дата                    \n",
              "2019-08-04  61.33  -1.72\n",
              "2019-08-11  58.27  -3.06\n",
              "2019-08-18  58.89   0.62\n",
              "2019-08-25  57.81  -1.08\n",
              "2019-09-01  58.84   1.03"
            ]
          },
          "execution_count": 379,
          "metadata": {},
          "output_type": "execute_result"
        }
      ],
      "source": [
        "data.tail()"
      ]
    },
    {
      "cell_type": "code",
      "execution_count": null,
      "metadata": {
        "id": "w7au_86UzDPD",
        "outputId": "15424e5c-c2e9-4779-f3c0-da8077fccab2"
      },
      "outputs": [
        {
          "data": {
            "text/plain": [
              "470"
            ]
          },
          "execution_count": 380,
          "metadata": {},
          "output_type": "execute_result"
        }
      ],
      "source": [
        "data.shape[0]"
      ]
    },
    {
      "cell_type": "markdown",
      "metadata": {
        "id": "_xUiVJsSzDPD"
      },
      "source": [
        "Повторение - мать учения. Вспомним про тест Дики-Фуллера из второго занятия:"
      ]
    },
    {
      "cell_type": "code",
      "execution_count": null,
      "metadata": {
        "id": "LainNSCEzDPD"
      },
      "outputs": [],
      "source": [
        "import statsmodels.api as sm"
      ]
    },
    {
      "cell_type": "code",
      "execution_count": null,
      "metadata": {
        "id": "DK0hjSJTzDPD",
        "outputId": "844ea7c0-c8b3-41db-b524-13481671fd85"
      },
      "outputs": [
        {
          "data": {
            "text/plain": [
              "(-21.45022086783883,\n",
              " 0.0,\n",
              " 0,\n",
              " 469,\n",
              " {'1%': -4.396004396159916,\n",
              "  '5%': -3.845040040255731,\n",
              "  '10%': -3.561087664541695},\n",
              " 2250.2481469655886)"
            ]
          },
          "execution_count": 382,
          "metadata": {},
          "output_type": "execute_result"
        }
      ],
      "source": [
        "DF_brent = sm.tsa.stattools.adfuller(data['diff1'].values, regression = 'ctt')\n",
        "DF_brent"
      ]
    },
    {
      "cell_type": "markdown",
      "metadata": {
        "id": "C_eT61q8zDPE"
      },
      "source": [
        "Ряд интегральный (разница первого порядка стационарна)"
      ]
    },
    {
      "cell_type": "markdown",
      "metadata": {
        "id": "TT-FP-eNzDPE"
      },
      "source": [
        "### Задание №2"
      ]
    },
    {
      "cell_type": "markdown",
      "metadata": {
        "id": "p2Gam0zJzDPE"
      },
      "source": [
        "2. Добавьте первые разности по стоимости доллара и евро к рублю"
      ]
    },
    {
      "cell_type": "code",
      "execution_count": null,
      "metadata": {
        "id": "CZl4IRhbzDPE",
        "outputId": "5024b29c-2fca-41a8-a7f7-0eff9b7e24b4"
      },
      "outputs": [
        {
          "data": {
            "text/html": [
              "<div>\n",
              "<style scoped>\n",
              "    .dataframe tbody tr th:only-of-type {\n",
              "        vertical-align: middle;\n",
              "    }\n",
              "\n",
              "    .dataframe tbody tr th {\n",
              "        vertical-align: top;\n",
              "    }\n",
              "\n",
              "    .dataframe thead th {\n",
              "        text-align: right;\n",
              "    }\n",
              "</style>\n",
              "<table border=\"1\" class=\"dataframe\">\n",
              "  <thead>\n",
              "    <tr style=\"text-align: right;\">\n",
              "      <th></th>\n",
              "      <th>curs</th>\n",
              "    </tr>\n",
              "  </thead>\n",
              "  <tbody>\n",
              "    <tr>\n",
              "      <th>2010-09-01</th>\n",
              "      <td>30.8669</td>\n",
              "    </tr>\n",
              "    <tr>\n",
              "      <th>2010-09-02</th>\n",
              "      <td>30.8001</td>\n",
              "    </tr>\n",
              "    <tr>\n",
              "      <th>2010-09-03</th>\n",
              "      <td>30.6858</td>\n",
              "    </tr>\n",
              "    <tr>\n",
              "      <th>2010-09-04</th>\n",
              "      <td>30.6922</td>\n",
              "    </tr>\n",
              "    <tr>\n",
              "      <th>2010-09-07</th>\n",
              "      <td>30.5771</td>\n",
              "    </tr>\n",
              "  </tbody>\n",
              "</table>\n",
              "</div>"
            ],
            "text/plain": [
              "               curs\n",
              "2010-09-01  30.8669\n",
              "2010-09-02  30.8001\n",
              "2010-09-03  30.6858\n",
              "2010-09-04  30.6922\n",
              "2010-09-07  30.5771"
            ]
          },
          "execution_count": 383,
          "metadata": {},
          "output_type": "execute_result"
        }
      ],
      "source": [
        "rub_doll=pd.read_excel('RC_F01_09_2010_T01_09_2019.xlsx')\n",
        "rub_doll.index = pd.to_datetime(rub_doll['data'].values).date\n",
        "rub_doll.drop(['nominal','cdx','data'], axis=1,inplace = True)\n",
        "rub_doll.head()"
      ]
    },
    {
      "cell_type": "code",
      "execution_count": null,
      "metadata": {
        "id": "pEmFf4wEzDPF"
      },
      "outputs": [],
      "source": [
        "rub_doll.sort_index(inplace = True)\n",
        "rub_doll = rub_doll[['curs']]\n",
        "rub_doll = rub_doll.asfreq('W', method ='pad')"
      ]
    },
    {
      "cell_type": "code",
      "execution_count": null,
      "metadata": {
        "id": "dfaRmr-7zDPF"
      },
      "outputs": [],
      "source": [
        "rub_doll.loc[rub_doll.index[0], 'diff1'] = 0\n",
        "rub_doll.loc[rub_doll.index[1:], 'diff1'] = rub_doll.loc[rub_doll.index[1:], 'curs'].values \\\n",
        "                                            - rub_doll.loc[rub_doll.index[:-1], 'curs'].values"
      ]
    },
    {
      "cell_type": "code",
      "execution_count": null,
      "metadata": {
        "id": "JxKTG031zDPF",
        "outputId": "f4d45445-37be-404b-83b7-2cca5af38f2f"
      },
      "outputs": [
        {
          "data": {
            "text/html": [
              "<div>\n",
              "<style scoped>\n",
              "    .dataframe tbody tr th:only-of-type {\n",
              "        vertical-align: middle;\n",
              "    }\n",
              "\n",
              "    .dataframe tbody tr th {\n",
              "        vertical-align: top;\n",
              "    }\n",
              "\n",
              "    .dataframe thead th {\n",
              "        text-align: right;\n",
              "    }\n",
              "</style>\n",
              "<table border=\"1\" class=\"dataframe\">\n",
              "  <thead>\n",
              "    <tr style=\"text-align: right;\">\n",
              "      <th></th>\n",
              "      <th>curs</th>\n",
              "      <th>diff1</th>\n",
              "    </tr>\n",
              "  </thead>\n",
              "  <tbody>\n",
              "    <tr>\n",
              "      <th>2019-07-28</th>\n",
              "      <td>63.1271</td>\n",
              "      <td>0.2605</td>\n",
              "    </tr>\n",
              "    <tr>\n",
              "      <th>2019-08-04</th>\n",
              "      <td>64.6423</td>\n",
              "      <td>1.5152</td>\n",
              "    </tr>\n",
              "    <tr>\n",
              "      <th>2019-08-11</th>\n",
              "      <td>65.2543</td>\n",
              "      <td>0.6120</td>\n",
              "    </tr>\n",
              "    <tr>\n",
              "      <th>2019-08-18</th>\n",
              "      <td>65.9961</td>\n",
              "      <td>0.7418</td>\n",
              "    </tr>\n",
              "    <tr>\n",
              "      <th>2019-08-25</th>\n",
              "      <td>65.6046</td>\n",
              "      <td>-0.3915</td>\n",
              "    </tr>\n",
              "  </tbody>\n",
              "</table>\n",
              "</div>"
            ],
            "text/plain": [
              "               curs   diff1\n",
              "2019-07-28  63.1271  0.2605\n",
              "2019-08-04  64.6423  1.5152\n",
              "2019-08-11  65.2543  0.6120\n",
              "2019-08-18  65.9961  0.7418\n",
              "2019-08-25  65.6046 -0.3915"
            ]
          },
          "execution_count": 386,
          "metadata": {},
          "output_type": "execute_result"
        }
      ],
      "source": [
        "rub_doll.tail()"
      ]
    },
    {
      "cell_type": "code",
      "execution_count": null,
      "metadata": {
        "id": "M_yBVwCwzDPF",
        "outputId": "68af0c59-c8c5-44b4-f73f-ec4e078933a6"
      },
      "outputs": [
        {
          "data": {
            "text/plain": [
              "469"
            ]
          },
          "execution_count": 387,
          "metadata": {},
          "output_type": "execute_result"
        }
      ],
      "source": [
        "rub_doll.shape[0]"
      ]
    },
    {
      "cell_type": "markdown",
      "metadata": {
        "id": "mJhp0pzBzDPG"
      },
      "source": [
        "В данных по нефти на одну неделю больше"
      ]
    },
    {
      "cell_type": "code",
      "execution_count": null,
      "metadata": {
        "id": "grHWqv65zDPG"
      },
      "outputs": [],
      "source": [
        "data = data.iloc[:-1, :]"
      ]
    },
    {
      "cell_type": "code",
      "execution_count": null,
      "metadata": {
        "id": "D511Vb_NzDPG",
        "outputId": "417c55c8-cf10-4a6d-dde2-7ee3a9d03736"
      },
      "outputs": [
        {
          "data": {
            "text/plain": [
              "469"
            ]
          },
          "execution_count": 389,
          "metadata": {},
          "output_type": "execute_result"
        }
      ],
      "source": [
        "data.shape[0]"
      ]
    },
    {
      "cell_type": "code",
      "execution_count": null,
      "metadata": {
        "id": "al5sPM7azDPG",
        "outputId": "36761221-6851-434a-894c-f6d3d904bca7"
      },
      "outputs": [
        {
          "data": {
            "text/plain": [
              "(-6.853438868852033,\n",
              " 1.747092630696711e-07,\n",
              " 5,\n",
              " 463,\n",
              " {'1%': -4.3963289657263935,\n",
              "  '5%': -3.8452047473422097,\n",
              "  '10%': -3.5611894351163547},\n",
              " 1527.4578746845805)"
            ]
          },
          "execution_count": 390,
          "metadata": {},
          "output_type": "execute_result"
        }
      ],
      "source": [
        "DF_doll = sm.tsa.stattools.adfuller(rub_doll['diff1'].values, regression = 'ctt')\n",
        "DF_doll"
      ]
    },
    {
      "cell_type": "markdown",
      "metadata": {
        "id": "xL2UxqDqzDPH"
      },
      "source": [
        "Значение первого элемента ниже, чем критическое для 1%. Второе значение мало. Ряд очень близок к стационарному"
      ]
    },
    {
      "cell_type": "code",
      "execution_count": null,
      "metadata": {
        "id": "6qKNruI7zDPH",
        "outputId": "f0fef484-f259-42f5-f0f5-7f435b8b34c6"
      },
      "outputs": [
        {
          "data": {
            "text/html": [
              "<div>\n",
              "<style scoped>\n",
              "    .dataframe tbody tr th:only-of-type {\n",
              "        vertical-align: middle;\n",
              "    }\n",
              "\n",
              "    .dataframe tbody tr th {\n",
              "        vertical-align: top;\n",
              "    }\n",
              "\n",
              "    .dataframe thead th {\n",
              "        text-align: right;\n",
              "    }\n",
              "</style>\n",
              "<table border=\"1\" class=\"dataframe\">\n",
              "  <thead>\n",
              "    <tr style=\"text-align: right;\">\n",
              "      <th></th>\n",
              "      <th>curs</th>\n",
              "    </tr>\n",
              "  </thead>\n",
              "  <tbody>\n",
              "    <tr>\n",
              "      <th>2019-08-27</th>\n",
              "      <td>73.3955</td>\n",
              "    </tr>\n",
              "    <tr>\n",
              "      <th>2019-08-28</th>\n",
              "      <td>73.6091</td>\n",
              "    </tr>\n",
              "    <tr>\n",
              "      <th>2019-08-29</th>\n",
              "      <td>73.6583</td>\n",
              "    </tr>\n",
              "    <tr>\n",
              "      <th>2019-08-30</th>\n",
              "      <td>73.9558</td>\n",
              "    </tr>\n",
              "    <tr>\n",
              "      <th>2019-08-31</th>\n",
              "      <td>73.3847</td>\n",
              "    </tr>\n",
              "  </tbody>\n",
              "</table>\n",
              "</div>"
            ],
            "text/plain": [
              "               curs\n",
              "2019-08-27  73.3955\n",
              "2019-08-28  73.6091\n",
              "2019-08-29  73.6583\n",
              "2019-08-30  73.9558\n",
              "2019-08-31  73.3847"
            ]
          },
          "execution_count": 391,
          "metadata": {},
          "output_type": "execute_result"
        }
      ],
      "source": [
        "rub_e=pd.read_excel('R_E01_09_2010_T01_09_2019.xlsx')\n",
        "rub_e.index = pd.to_datetime(rub_e['data'].values).date\n",
        "rub_e.drop(['nominal','cdx','data'], axis=1,inplace = True)\n",
        "rub_e.tail()"
      ]
    },
    {
      "cell_type": "code",
      "execution_count": null,
      "metadata": {
        "id": "UzZemE10zDPH"
      },
      "outputs": [],
      "source": [
        "rub_e.sort_index(inplace = True)\n",
        "rub_e = rub_e[['curs']]\n",
        "rub_e = rub_e.asfreq('W', method ='pad')"
      ]
    },
    {
      "cell_type": "code",
      "execution_count": null,
      "metadata": {
        "id": "0itXR_yIzDPH"
      },
      "outputs": [],
      "source": [
        "rub_e.loc[rub_e.index[0], 'diff1'] = 0\n",
        "rub_e.loc[rub_e.index[1:], 'diff1'] = rub_e.loc[rub_e.index[1:], 'curs'].values \\\n",
        "                                            - rub_e.loc[rub_e.index[:-1], 'curs'].values"
      ]
    },
    {
      "cell_type": "code",
      "execution_count": null,
      "metadata": {
        "id": "kL1pqK5qzDPI",
        "outputId": "83aede4c-6257-45cb-cbf6-d6c1b1234bd1"
      },
      "outputs": [
        {
          "data": {
            "text/html": [
              "<div>\n",
              "<style scoped>\n",
              "    .dataframe tbody tr th:only-of-type {\n",
              "        vertical-align: middle;\n",
              "    }\n",
              "\n",
              "    .dataframe tbody tr th {\n",
              "        vertical-align: top;\n",
              "    }\n",
              "\n",
              "    .dataframe thead th {\n",
              "        text-align: right;\n",
              "    }\n",
              "</style>\n",
              "<table border=\"1\" class=\"dataframe\">\n",
              "  <thead>\n",
              "    <tr style=\"text-align: right;\">\n",
              "      <th></th>\n",
              "      <th>curs</th>\n",
              "      <th>diff1</th>\n",
              "    </tr>\n",
              "  </thead>\n",
              "  <tbody>\n",
              "    <tr>\n",
              "      <th>2019-07-28</th>\n",
              "      <td>70.3110</td>\n",
              "      <td>-0.4831</td>\n",
              "    </tr>\n",
              "    <tr>\n",
              "      <th>2019-08-04</th>\n",
              "      <td>71.7077</td>\n",
              "      <td>1.3967</td>\n",
              "    </tr>\n",
              "    <tr>\n",
              "      <th>2019-08-11</th>\n",
              "      <td>73.0196</td>\n",
              "      <td>1.3119</td>\n",
              "    </tr>\n",
              "    <tr>\n",
              "      <th>2019-08-18</th>\n",
              "      <td>73.2227</td>\n",
              "      <td>0.2031</td>\n",
              "    </tr>\n",
              "    <tr>\n",
              "      <th>2019-08-25</th>\n",
              "      <td>72.6243</td>\n",
              "      <td>-0.5984</td>\n",
              "    </tr>\n",
              "  </tbody>\n",
              "</table>\n",
              "</div>"
            ],
            "text/plain": [
              "               curs   diff1\n",
              "2019-07-28  70.3110 -0.4831\n",
              "2019-08-04  71.7077  1.3967\n",
              "2019-08-11  73.0196  1.3119\n",
              "2019-08-18  73.2227  0.2031\n",
              "2019-08-25  72.6243 -0.5984"
            ]
          },
          "execution_count": 394,
          "metadata": {},
          "output_type": "execute_result"
        }
      ],
      "source": [
        "rub_e.tail()"
      ]
    },
    {
      "cell_type": "code",
      "execution_count": null,
      "metadata": {
        "id": "E5nFwRF4zDPI",
        "outputId": "25a333f5-bbbc-41c0-da25-a3261ff5af02"
      },
      "outputs": [
        {
          "data": {
            "text/plain": [
              "469"
            ]
          },
          "execution_count": 395,
          "metadata": {},
          "output_type": "execute_result"
        }
      ],
      "source": [
        "rub_e.shape[0]"
      ]
    },
    {
      "cell_type": "code",
      "execution_count": null,
      "metadata": {
        "id": "sEJJ8YOmzDPI",
        "outputId": "39c78b8c-85f8-47cc-8f95-e7232bbfb9e4"
      },
      "outputs": [
        {
          "data": {
            "text/plain": [
              "(-9.451985406119741,\n",
              " 9.401613939816885e-14,\n",
              " 3,\n",
              " 465,\n",
              " {'1%': -4.396219838735785,\n",
              "  '5%': -3.845149370443721,\n",
              "  '10%': -3.5611552188045854},\n",
              " 1658.3177067297975)"
            ]
          },
          "execution_count": 396,
          "metadata": {},
          "output_type": "execute_result"
        }
      ],
      "source": [
        "DF_eur = sm.tsa.stattools.adfuller(rub_e['diff1'].values, regression = 'ctt')\n",
        "DF_eur"
      ]
    },
    {
      "cell_type": "markdown",
      "metadata": {
        "id": "1sSfgO8tzDPI"
      },
      "source": [
        "Значение первого элемента ниже, чем критическое для 1%. Второе значение мало. Ряд очень близок к стационарному"
      ]
    },
    {
      "cell_type": "code",
      "execution_count": null,
      "metadata": {
        "id": "X8sNFzGazDPI"
      },
      "outputs": [],
      "source": [
        "data.loc[:, 'diff1_eur'] = rub_e.loc[:, 'diff1']\n",
        "data.loc[:, 'diff1_usd'] = rub_doll.loc[:, 'diff1']\n",
        "# data.drop(['value'], axis='columns', inplace=True)"
      ]
    },
    {
      "cell_type": "code",
      "execution_count": null,
      "metadata": {
        "id": "GuF4nQLFzDPJ",
        "outputId": "80cded94-1f96-49ea-f11e-83b0fe2aa676"
      },
      "outputs": [
        {
          "data": {
            "text/html": [
              "<div>\n",
              "<style scoped>\n",
              "    .dataframe tbody tr th:only-of-type {\n",
              "        vertical-align: middle;\n",
              "    }\n",
              "\n",
              "    .dataframe tbody tr th {\n",
              "        vertical-align: top;\n",
              "    }\n",
              "\n",
              "    .dataframe thead th {\n",
              "        text-align: right;\n",
              "    }\n",
              "</style>\n",
              "<table border=\"1\" class=\"dataframe\">\n",
              "  <thead>\n",
              "    <tr style=\"text-align: right;\">\n",
              "      <th></th>\n",
              "      <th>value</th>\n",
              "      <th>diff1</th>\n",
              "      <th>diff1_eur</th>\n",
              "      <th>diff1_usd</th>\n",
              "    </tr>\n",
              "    <tr>\n",
              "      <th>Дата</th>\n",
              "      <th></th>\n",
              "      <th></th>\n",
              "      <th></th>\n",
              "      <th></th>\n",
              "    </tr>\n",
              "  </thead>\n",
              "  <tbody>\n",
              "    <tr>\n",
              "      <th>2010-09-05</th>\n",
              "      <td>76.63</td>\n",
              "      <td>0.00</td>\n",
              "      <td>0.0000</td>\n",
              "      <td>0.0000</td>\n",
              "    </tr>\n",
              "    <tr>\n",
              "      <th>2010-09-12</th>\n",
              "      <td>78.36</td>\n",
              "      <td>1.73</td>\n",
              "      <td>-0.1588</td>\n",
              "      <td>0.2015</td>\n",
              "    </tr>\n",
              "    <tr>\n",
              "      <th>2010-09-19</th>\n",
              "      <td>78.23</td>\n",
              "      <td>-0.13</td>\n",
              "      <td>1.6198</td>\n",
              "      <td>0.1889</td>\n",
              "    </tr>\n",
              "    <tr>\n",
              "      <th>2010-09-26</th>\n",
              "      <td>78.94</td>\n",
              "      <td>0.71</td>\n",
              "      <td>0.4484</td>\n",
              "      <td>-0.1346</td>\n",
              "    </tr>\n",
              "    <tr>\n",
              "      <th>2010-10-03</th>\n",
              "      <td>83.69</td>\n",
              "      <td>4.75</td>\n",
              "      <td>0.4007</td>\n",
              "      <td>-0.4386</td>\n",
              "    </tr>\n",
              "  </tbody>\n",
              "</table>\n",
              "</div>"
            ],
            "text/plain": [
              "            value  diff1  diff1_eur  diff1_usd\n",
              "Дата                                          \n",
              "2010-09-05  76.63   0.00     0.0000     0.0000\n",
              "2010-09-12  78.36   1.73    -0.1588     0.2015\n",
              "2010-09-19  78.23  -0.13     1.6198     0.1889\n",
              "2010-09-26  78.94   0.71     0.4484    -0.1346\n",
              "2010-10-03  83.69   4.75     0.4007    -0.4386"
            ]
          },
          "execution_count": 398,
          "metadata": {},
          "output_type": "execute_result"
        }
      ],
      "source": [
        "data.head()"
      ]
    },
    {
      "cell_type": "markdown",
      "metadata": {
        "id": "svXoog9czDPJ"
      },
      "source": [
        "### Задание №3"
      ]
    },
    {
      "cell_type": "markdown",
      "metadata": {
        "id": "xdw4F0CazDPJ"
      },
      "source": [
        "3. сделайте ее перрасчет (ресемплинг) в представление по неделям."
      ]
    },
    {
      "cell_type": "markdown",
      "metadata": {
        "id": "t3pwRoR-zDPJ"
      },
      "source": [
        "Сделано при выполнении заданий 1 и 2"
      ]
    },
    {
      "cell_type": "markdown",
      "metadata": {
        "id": "PSvsFhSHzDPJ"
      },
      "source": [
        "### Задание №4"
      ]
    },
    {
      "cell_type": "markdown",
      "metadata": {
        "id": "I509LjJizDPJ"
      },
      "source": [
        "4. Постройте модель предсказания 1-й точки от текущей (h=1)."
      ]
    },
    {
      "cell_type": "markdown",
      "metadata": {
        "id": "l56hLHhAzDPJ"
      },
      "source": [
        "Добавим признаков (историю)"
      ]
    },
    {
      "cell_type": "code",
      "execution_count": null,
      "metadata": {
        "id": "bPKPsRHGzDPK"
      },
      "outputs": [],
      "source": [
        "df = data.copy()"
      ]
    },
    {
      "cell_type": "code",
      "execution_count": null,
      "metadata": {
        "id": "fV-wmQeuzDPK"
      },
      "outputs": [],
      "source": [
        "p = 52\n",
        "h = 1\n",
        "for i in range(p):\n",
        "    for col in ['value', 'diff1', 'diff1_eur', 'diff1_usd']:\n",
        "        df[f'{col}_t_{p-i}'] = 0\n",
        "        df[f'{col}_t_{p-i}'].values[p:] = df[col].values[i: -(p -i)]\n",
        "        df[f'{col}_t_{p-i}'].fillna(0, inplace=True)"
      ]
    },
    {
      "cell_type": "code",
      "execution_count": null,
      "metadata": {
        "id": "V72O8-5DzDPK",
        "outputId": "baec2d67-acd3-42ba-8756-dd8232ebb2b5"
      },
      "outputs": [
        {
          "data": {
            "text/plain": [
              "Index(['value', 'diff1', 'diff1_eur', 'diff1_usd', 'value_t_52', 'diff1_t_52',\n",
              "       'diff1_eur_t_52', 'diff1_usd_t_52', 'value_t_51', 'diff1_t_51',\n",
              "       ...\n",
              "       'diff1_eur_t_3', 'diff1_usd_t_3', 'value_t_2', 'diff1_t_2',\n",
              "       'diff1_eur_t_2', 'diff1_usd_t_2', 'value_t_1', 'diff1_t_1',\n",
              "       'diff1_eur_t_1', 'diff1_usd_t_1'],\n",
              "      dtype='object', length=212)"
            ]
          },
          "execution_count": 401,
          "metadata": {},
          "output_type": "execute_result"
        }
      ],
      "source": [
        "df.columns"
      ]
    },
    {
      "cell_type": "markdown",
      "metadata": {
        "id": "YboA50RdzDPK"
      },
      "source": [
        "##### Отбираем лучшие признаки"
      ]
    },
    {
      "cell_type": "code",
      "execution_count": null,
      "metadata": {
        "id": "R5xcPmgXzDPK"
      },
      "outputs": [],
      "source": [
        "from sklearn.preprocessing import StandardScaler"
      ]
    },
    {
      "cell_type": "code",
      "execution_count": null,
      "metadata": {
        "id": "AyztssRvzDPK"
      },
      "outputs": [],
      "source": [
        "TARGET = 'value'"
      ]
    },
    {
      "cell_type": "code",
      "execution_count": null,
      "metadata": {
        "id": "BVXQBOsYzDPK"
      },
      "outputs": [],
      "source": [
        "def X_y_prep(data, h, p):\n",
        "    scl_target = StandardScaler() \n",
        "    scl_x = StandardScaler() \n",
        "\n",
        "    target = data[TARGET].values[h + p:].reshape((df.shape[0] - h - p, 1))\n",
        "    y = scl_target.fit_transform(target)\n",
        "\n",
        "    X = data.iloc[p : -h, :].values\n",
        "    X = scl_x.fit_transform(X.astype('float64'))\n",
        "\n",
        "    assert(y.shape[0] == X.shape[0])\n",
        "    \n",
        "    return X, y, scl_target, scl_x"
      ]
    },
    {
      "cell_type": "code",
      "execution_count": null,
      "metadata": {
        "scrolled": true,
        "id": "qZIm3GSzzDPL"
      },
      "outputs": [],
      "source": [
        "X, y, scl_target, scl_x = X_y_prep(df.copy(), h=1, p=52)"
      ]
    },
    {
      "cell_type": "code",
      "execution_count": null,
      "metadata": {
        "id": "gxUO-xe7zDPL",
        "outputId": "30095da3-8c6a-4817-9718-0ef71741c236"
      },
      "outputs": [
        {
          "data": {
            "text/plain": [
              "(416, 1)"
            ]
          },
          "execution_count": 406,
          "metadata": {},
          "output_type": "execute_result"
        }
      ],
      "source": [
        "y.shape"
      ]
    },
    {
      "cell_type": "code",
      "execution_count": null,
      "metadata": {
        "id": "R2Ky2DWIzDPL"
      },
      "outputs": [],
      "source": [
        "from sklearn.feature_selection import SelectKBest, SelectPercentile\n",
        "from sklearn.feature_selection import SelectFromModel\n",
        "from sklearn.ensemble import GradientBoostingRegressor\n",
        "from sklearn.feature_selection import f_regression, mutual_info_regression"
      ]
    },
    {
      "cell_type": "code",
      "execution_count": null,
      "metadata": {
        "id": "tGUzTZUvzDPL"
      },
      "outputs": [],
      "source": [
        "def range_feat(X, y, feat_names):\n",
        "    f_test, _ = f_regression(X, y.ravel())\n",
        "    f_test /= np.max(f_test)\n",
        "    for i in range(X.shape[1]):\n",
        "        print(\"F-test={:.2f},  feature={},      \\t\\t I={}\".format(f_test[i], feat_names[i], i))"
      ]
    },
    {
      "cell_type": "code",
      "execution_count": null,
      "metadata": {
        "id": "SEau9WiRzDPL",
        "outputId": "503593c1-a17e-4dc7-d804-7525fe867031"
      },
      "outputs": [
        {
          "name": "stdout",
          "output_type": "stream",
          "text": [
            "F-test=1.00,  feature=value,      \t\t I=0\n",
            "F-test=0.00,  feature=diff1,      \t\t I=1\n",
            "F-test=0.00,  feature=diff1_eur,      \t\t I=2\n",
            "F-test=0.00,  feature=diff1_usd,      \t\t I=3\n",
            "F-test=0.01,  feature=value_t_52,      \t\t I=4\n",
            "F-test=0.00,  feature=diff1_t_52,      \t\t I=5\n",
            "F-test=0.00,  feature=diff1_eur_t_52,      \t\t I=6\n",
            "F-test=0.00,  feature=diff1_usd_t_52,      \t\t I=7\n",
            "F-test=0.01,  feature=value_t_51,      \t\t I=8\n",
            "F-test=0.00,  feature=diff1_t_51,      \t\t I=9\n",
            "F-test=0.00,  feature=diff1_eur_t_51,      \t\t I=10\n",
            "F-test=0.00,  feature=diff1_usd_t_51,      \t\t I=11\n",
            "F-test=0.01,  feature=value_t_50,      \t\t I=12\n",
            "F-test=0.00,  feature=diff1_t_50,      \t\t I=13\n",
            "F-test=0.00,  feature=diff1_eur_t_50,      \t\t I=14\n",
            "F-test=0.00,  feature=diff1_usd_t_50,      \t\t I=15\n",
            "F-test=0.01,  feature=value_t_49,      \t\t I=16\n",
            "F-test=0.00,  feature=diff1_t_49,      \t\t I=17\n",
            "F-test=0.00,  feature=diff1_eur_t_49,      \t\t I=18\n",
            "F-test=0.00,  feature=diff1_usd_t_49,      \t\t I=19\n",
            "F-test=0.01,  feature=value_t_48,      \t\t I=20\n",
            "F-test=0.00,  feature=diff1_t_48,      \t\t I=21\n",
            "F-test=0.00,  feature=diff1_eur_t_48,      \t\t I=22\n",
            "F-test=0.00,  feature=diff1_usd_t_48,      \t\t I=23\n",
            "F-test=0.01,  feature=value_t_47,      \t\t I=24\n",
            "F-test=0.00,  feature=diff1_t_47,      \t\t I=25\n",
            "F-test=0.00,  feature=diff1_eur_t_47,      \t\t I=26\n",
            "F-test=0.00,  feature=diff1_usd_t_47,      \t\t I=27\n",
            "F-test=0.01,  feature=value_t_46,      \t\t I=28\n",
            "F-test=0.00,  feature=diff1_t_46,      \t\t I=29\n",
            "F-test=0.00,  feature=diff1_eur_t_46,      \t\t I=30\n",
            "F-test=0.00,  feature=diff1_usd_t_46,      \t\t I=31\n",
            "F-test=0.01,  feature=value_t_45,      \t\t I=32\n",
            "F-test=0.00,  feature=diff1_t_45,      \t\t I=33\n",
            "F-test=0.00,  feature=diff1_eur_t_45,      \t\t I=34\n",
            "F-test=0.00,  feature=diff1_usd_t_45,      \t\t I=35\n",
            "F-test=0.01,  feature=value_t_44,      \t\t I=36\n",
            "F-test=0.00,  feature=diff1_t_44,      \t\t I=37\n",
            "F-test=0.00,  feature=diff1_eur_t_44,      \t\t I=38\n",
            "F-test=0.00,  feature=diff1_usd_t_44,      \t\t I=39\n",
            "F-test=0.01,  feature=value_t_43,      \t\t I=40\n",
            "F-test=0.00,  feature=diff1_t_43,      \t\t I=41\n",
            "F-test=0.00,  feature=diff1_eur_t_43,      \t\t I=42\n",
            "F-test=0.00,  feature=diff1_usd_t_43,      \t\t I=43\n",
            "F-test=0.02,  feature=value_t_42,      \t\t I=44\n",
            "F-test=0.00,  feature=diff1_t_42,      \t\t I=45\n",
            "F-test=0.00,  feature=diff1_eur_t_42,      \t\t I=46\n",
            "F-test=0.00,  feature=diff1_usd_t_42,      \t\t I=47\n",
            "F-test=0.02,  feature=value_t_41,      \t\t I=48\n",
            "F-test=0.00,  feature=diff1_t_41,      \t\t I=49\n",
            "F-test=0.00,  feature=diff1_eur_t_41,      \t\t I=50\n",
            "F-test=0.00,  feature=diff1_usd_t_41,      \t\t I=51\n",
            "F-test=0.02,  feature=value_t_40,      \t\t I=52\n",
            "F-test=0.00,  feature=diff1_t_40,      \t\t I=53\n",
            "F-test=0.00,  feature=diff1_eur_t_40,      \t\t I=54\n",
            "F-test=0.00,  feature=diff1_usd_t_40,      \t\t I=55\n",
            "F-test=0.02,  feature=value_t_39,      \t\t I=56\n",
            "F-test=0.00,  feature=diff1_t_39,      \t\t I=57\n",
            "F-test=0.00,  feature=diff1_eur_t_39,      \t\t I=58\n",
            "F-test=0.00,  feature=diff1_usd_t_39,      \t\t I=59\n",
            "F-test=0.02,  feature=value_t_38,      \t\t I=60\n",
            "F-test=0.00,  feature=diff1_t_38,      \t\t I=61\n",
            "F-test=0.00,  feature=diff1_eur_t_38,      \t\t I=62\n",
            "F-test=0.00,  feature=diff1_usd_t_38,      \t\t I=63\n",
            "F-test=0.02,  feature=value_t_37,      \t\t I=64\n",
            "F-test=0.00,  feature=diff1_t_37,      \t\t I=65\n",
            "F-test=0.00,  feature=diff1_eur_t_37,      \t\t I=66\n",
            "F-test=0.00,  feature=diff1_usd_t_37,      \t\t I=67\n",
            "F-test=0.02,  feature=value_t_36,      \t\t I=68\n",
            "F-test=0.00,  feature=diff1_t_36,      \t\t I=69\n",
            "F-test=0.00,  feature=diff1_eur_t_36,      \t\t I=70\n",
            "F-test=0.00,  feature=diff1_usd_t_36,      \t\t I=71\n",
            "F-test=0.02,  feature=value_t_35,      \t\t I=72\n",
            "F-test=0.00,  feature=diff1_t_35,      \t\t I=73\n",
            "F-test=0.00,  feature=diff1_eur_t_35,      \t\t I=74\n",
            "F-test=0.00,  feature=diff1_usd_t_35,      \t\t I=75\n",
            "F-test=0.02,  feature=value_t_34,      \t\t I=76\n",
            "F-test=0.00,  feature=diff1_t_34,      \t\t I=77\n",
            "F-test=0.00,  feature=diff1_eur_t_34,      \t\t I=78\n",
            "F-test=0.00,  feature=diff1_usd_t_34,      \t\t I=79\n",
            "F-test=0.02,  feature=value_t_33,      \t\t I=80\n",
            "F-test=0.00,  feature=diff1_t_33,      \t\t I=81\n",
            "F-test=0.00,  feature=diff1_eur_t_33,      \t\t I=82\n",
            "F-test=0.00,  feature=diff1_usd_t_33,      \t\t I=83\n",
            "F-test=0.02,  feature=value_t_32,      \t\t I=84\n",
            "F-test=0.00,  feature=diff1_t_32,      \t\t I=85\n",
            "F-test=0.00,  feature=diff1_eur_t_32,      \t\t I=86\n",
            "F-test=0.00,  feature=diff1_usd_t_32,      \t\t I=87\n",
            "F-test=0.02,  feature=value_t_31,      \t\t I=88\n",
            "F-test=0.00,  feature=diff1_t_31,      \t\t I=89\n",
            "F-test=0.00,  feature=diff1_eur_t_31,      \t\t I=90\n",
            "F-test=0.00,  feature=diff1_usd_t_31,      \t\t I=91\n",
            "F-test=0.02,  feature=value_t_30,      \t\t I=92\n",
            "F-test=0.00,  feature=diff1_t_30,      \t\t I=93\n",
            "F-test=0.00,  feature=diff1_eur_t_30,      \t\t I=94\n",
            "F-test=0.00,  feature=diff1_usd_t_30,      \t\t I=95\n",
            "F-test=0.02,  feature=value_t_29,      \t\t I=96\n",
            "F-test=0.00,  feature=diff1_t_29,      \t\t I=97\n",
            "F-test=0.00,  feature=diff1_eur_t_29,      \t\t I=98\n",
            "F-test=0.00,  feature=diff1_usd_t_29,      \t\t I=99\n",
            "F-test=0.03,  feature=value_t_28,      \t\t I=100\n",
            "F-test=0.00,  feature=diff1_t_28,      \t\t I=101\n",
            "F-test=0.00,  feature=diff1_eur_t_28,      \t\t I=102\n",
            "F-test=0.00,  feature=diff1_usd_t_28,      \t\t I=103\n",
            "F-test=0.03,  feature=value_t_27,      \t\t I=104\n",
            "F-test=0.00,  feature=diff1_t_27,      \t\t I=105\n",
            "F-test=0.00,  feature=diff1_eur_t_27,      \t\t I=106\n",
            "F-test=0.00,  feature=diff1_usd_t_27,      \t\t I=107\n",
            "F-test=0.03,  feature=value_t_26,      \t\t I=108\n",
            "F-test=0.00,  feature=diff1_t_26,      \t\t I=109\n",
            "F-test=0.00,  feature=diff1_eur_t_26,      \t\t I=110\n",
            "F-test=0.00,  feature=diff1_usd_t_26,      \t\t I=111\n",
            "F-test=0.03,  feature=value_t_25,      \t\t I=112\n",
            "F-test=0.00,  feature=diff1_t_25,      \t\t I=113\n",
            "F-test=0.00,  feature=diff1_eur_t_25,      \t\t I=114\n",
            "F-test=0.00,  feature=diff1_usd_t_25,      \t\t I=115\n",
            "F-test=0.03,  feature=value_t_24,      \t\t I=116\n",
            "F-test=0.00,  feature=diff1_t_24,      \t\t I=117\n",
            "F-test=0.00,  feature=diff1_eur_t_24,      \t\t I=118\n",
            "F-test=0.00,  feature=diff1_usd_t_24,      \t\t I=119\n",
            "F-test=0.03,  feature=value_t_23,      \t\t I=120\n",
            "F-test=0.00,  feature=diff1_t_23,      \t\t I=121\n",
            "F-test=0.00,  feature=diff1_eur_t_23,      \t\t I=122\n",
            "F-test=0.00,  feature=diff1_usd_t_23,      \t\t I=123\n",
            "F-test=0.03,  feature=value_t_22,      \t\t I=124\n",
            "F-test=0.00,  feature=diff1_t_22,      \t\t I=125\n",
            "F-test=0.00,  feature=diff1_eur_t_22,      \t\t I=126\n",
            "F-test=0.00,  feature=diff1_usd_t_22,      \t\t I=127\n",
            "F-test=0.03,  feature=value_t_21,      \t\t I=128\n",
            "F-test=0.00,  feature=diff1_t_21,      \t\t I=129\n",
            "F-test=0.00,  feature=diff1_eur_t_21,      \t\t I=130\n",
            "F-test=0.00,  feature=diff1_usd_t_21,      \t\t I=131\n",
            "F-test=0.04,  feature=value_t_20,      \t\t I=132\n",
            "F-test=0.00,  feature=diff1_t_20,      \t\t I=133\n",
            "F-test=0.00,  feature=diff1_eur_t_20,      \t\t I=134\n",
            "F-test=0.00,  feature=diff1_usd_t_20,      \t\t I=135\n",
            "F-test=0.04,  feature=value_t_19,      \t\t I=136\n",
            "F-test=0.00,  feature=diff1_t_19,      \t\t I=137\n",
            "F-test=0.00,  feature=diff1_eur_t_19,      \t\t I=138\n",
            "F-test=0.00,  feature=diff1_usd_t_19,      \t\t I=139\n",
            "F-test=0.04,  feature=value_t_18,      \t\t I=140\n",
            "F-test=0.00,  feature=diff1_t_18,      \t\t I=141\n",
            "F-test=0.00,  feature=diff1_eur_t_18,      \t\t I=142\n",
            "F-test=0.00,  feature=diff1_usd_t_18,      \t\t I=143\n",
            "F-test=0.04,  feature=value_t_17,      \t\t I=144\n",
            "F-test=0.00,  feature=diff1_t_17,      \t\t I=145\n",
            "F-test=0.00,  feature=diff1_eur_t_17,      \t\t I=146\n",
            "F-test=0.00,  feature=diff1_usd_t_17,      \t\t I=147\n",
            "F-test=0.04,  feature=value_t_16,      \t\t I=148\n",
            "F-test=0.00,  feature=diff1_t_16,      \t\t I=149\n",
            "F-test=0.00,  feature=diff1_eur_t_16,      \t\t I=150\n",
            "F-test=0.00,  feature=diff1_usd_t_16,      \t\t I=151\n",
            "F-test=0.04,  feature=value_t_15,      \t\t I=152\n",
            "F-test=0.00,  feature=diff1_t_15,      \t\t I=153\n",
            "F-test=0.00,  feature=diff1_eur_t_15,      \t\t I=154\n",
            "F-test=0.00,  feature=diff1_usd_t_15,      \t\t I=155\n",
            "F-test=0.05,  feature=value_t_14,      \t\t I=156\n",
            "F-test=0.00,  feature=diff1_t_14,      \t\t I=157\n",
            "F-test=0.00,  feature=diff1_eur_t_14,      \t\t I=158\n",
            "F-test=0.00,  feature=diff1_usd_t_14,      \t\t I=159\n",
            "F-test=0.05,  feature=value_t_13,      \t\t I=160\n",
            "F-test=0.00,  feature=diff1_t_13,      \t\t I=161\n",
            "F-test=0.00,  feature=diff1_eur_t_13,      \t\t I=162\n",
            "F-test=0.00,  feature=diff1_usd_t_13,      \t\t I=163\n",
            "F-test=0.05,  feature=value_t_12,      \t\t I=164\n",
            "F-test=0.00,  feature=diff1_t_12,      \t\t I=165\n",
            "F-test=0.00,  feature=diff1_eur_t_12,      \t\t I=166\n",
            "F-test=0.00,  feature=diff1_usd_t_12,      \t\t I=167\n",
            "F-test=0.06,  feature=value_t_11,      \t\t I=168\n",
            "F-test=0.00,  feature=diff1_t_11,      \t\t I=169\n",
            "F-test=0.00,  feature=diff1_eur_t_11,      \t\t I=170\n",
            "F-test=0.00,  feature=diff1_usd_t_11,      \t\t I=171\n",
            "F-test=0.06,  feature=value_t_10,      \t\t I=172\n",
            "F-test=0.00,  feature=diff1_t_10,      \t\t I=173\n",
            "F-test=0.00,  feature=diff1_eur_t_10,      \t\t I=174\n",
            "F-test=0.00,  feature=diff1_usd_t_10,      \t\t I=175\n",
            "F-test=0.07,  feature=value_t_9,      \t\t I=176\n",
            "F-test=0.00,  feature=diff1_t_9,      \t\t I=177\n",
            "F-test=0.00,  feature=diff1_eur_t_9,      \t\t I=178\n",
            "F-test=0.00,  feature=diff1_usd_t_9,      \t\t I=179\n",
            "F-test=0.08,  feature=value_t_8,      \t\t I=180\n",
            "F-test=0.00,  feature=diff1_t_8,      \t\t I=181\n",
            "F-test=0.00,  feature=diff1_eur_t_8,      \t\t I=182\n",
            "F-test=0.00,  feature=diff1_usd_t_8,      \t\t I=183\n",
            "F-test=0.09,  feature=value_t_7,      \t\t I=184\n",
            "F-test=0.00,  feature=diff1_t_7,      \t\t I=185\n",
            "F-test=0.00,  feature=diff1_eur_t_7,      \t\t I=186\n",
            "F-test=0.00,  feature=diff1_usd_t_7,      \t\t I=187\n",
            "F-test=0.11,  feature=value_t_6,      \t\t I=188\n",
            "F-test=0.00,  feature=diff1_t_6,      \t\t I=189\n",
            "F-test=0.00,  feature=diff1_eur_t_6,      \t\t I=190\n",
            "F-test=0.00,  feature=diff1_usd_t_6,      \t\t I=191\n",
            "F-test=0.13,  feature=value_t_5,      \t\t I=192\n",
            "F-test=0.00,  feature=diff1_t_5,      \t\t I=193\n",
            "F-test=0.00,  feature=diff1_eur_t_5,      \t\t I=194\n",
            "F-test=0.00,  feature=diff1_usd_t_5,      \t\t I=195\n",
            "F-test=0.17,  feature=value_t_4,      \t\t I=196\n",
            "F-test=0.00,  feature=diff1_t_4,      \t\t I=197\n",
            "F-test=0.00,  feature=diff1_eur_t_4,      \t\t I=198\n",
            "F-test=0.00,  feature=diff1_usd_t_4,      \t\t I=199\n",
            "F-test=0.22,  feature=value_t_3,      \t\t I=200\n",
            "F-test=0.00,  feature=diff1_t_3,      \t\t I=201\n",
            "F-test=0.00,  feature=diff1_eur_t_3,      \t\t I=202\n",
            "F-test=0.00,  feature=diff1_usd_t_3,      \t\t I=203\n",
            "F-test=0.31,  feature=value_t_2,      \t\t I=204\n",
            "F-test=0.00,  feature=diff1_t_2,      \t\t I=205\n",
            "F-test=0.00,  feature=diff1_eur_t_2,      \t\t I=206\n",
            "F-test=0.00,  feature=diff1_usd_t_2,      \t\t I=207\n",
            "F-test=0.48,  feature=value_t_1,      \t\t I=208\n",
            "F-test=0.00,  feature=diff1_t_1,      \t\t I=209\n",
            "F-test=0.00,  feature=diff1_eur_t_1,      \t\t I=210\n",
            "F-test=0.00,  feature=diff1_usd_t_1,      \t\t I=211\n"
          ]
        }
      ],
      "source": [
        "range_feat(X, y, df.columns)"
      ]
    },
    {
      "cell_type": "code",
      "execution_count": null,
      "metadata": {
        "id": "KEHxpMnOzDPM",
        "outputId": "0550ed1a-ccfc-4e94-d10b-ac19322dcef9"
      },
      "outputs": [
        {
          "data": {
            "text/plain": [
              "(416, 150)"
            ]
          },
          "execution_count": 410,
          "metadata": {},
          "output_type": "execute_result"
        }
      ],
      "source": [
        "sfk = SelectKBest(f_regression, k=150)\n",
        "X_new =sfk.fit_transform(X, y.ravel())\n",
        "X_new.shape"
      ]
    },
    {
      "cell_type": "code",
      "execution_count": null,
      "metadata": {
        "id": "5ofmIvjwzDPP",
        "outputId": "eec07cb8-221a-455f-e9cb-99a9a5d9bac7"
      },
      "outputs": [
        {
          "data": {
            "text/plain": [
              "Index(['value', 'diff1', 'value_t_52', 'diff1_t_52', 'diff1_eur_t_52',\n",
              "       'diff1_usd_t_52', 'value_t_51', 'diff1_t_51', 'diff1_usd_t_51',\n",
              "       'value_t_50',\n",
              "       ...\n",
              "       'value_t_3', 'diff1_t_3', 'diff1_usd_t_3', 'value_t_2', 'diff1_t_2',\n",
              "       'diff1_eur_t_2', 'diff1_usd_t_2', 'value_t_1', 'diff1_t_1',\n",
              "       'diff1_usd_t_1'],\n",
              "      dtype='object', length=150)"
            ]
          },
          "execution_count": 411,
          "metadata": {},
          "output_type": "execute_result"
        }
      ],
      "source": [
        "column_names = df.columns[sfk.get_support()]\n",
        "column_names"
      ]
    },
    {
      "cell_type": "markdown",
      "metadata": {
        "id": "bXu2Xq1ezDPP"
      },
      "source": [
        "##### Разделение данных на тестовые и тренировочные "
      ]
    },
    {
      "cell_type": "code",
      "execution_count": null,
      "metadata": {
        "id": "JPTV5pnrzDPP"
      },
      "outputs": [],
      "source": [
        "def split_data(data, split_date):\n",
        "    return data.loc[data.index.get_level_values('Дата') <= split_date].copy(), \\\n",
        "           data.loc[data.index.get_level_values('Дата') >  split_date].copy()"
      ]
    },
    {
      "cell_type": "markdown",
      "metadata": {
        "id": "S1YMUHHrzDPQ"
      },
      "source": [
        "Назначим датой разделения 1/09/2017"
      ]
    },
    {
      "cell_type": "code",
      "execution_count": null,
      "metadata": {
        "id": "OMCXI2A7zDPQ",
        "outputId": "21380b94-557d-4da7-d3d0-a7a4a8acc287"
      },
      "outputs": [
        {
          "data": {
            "image/png": "[encoded data removed]",
            "text/plain": [
              "<Figure size 1080x504 with 1 Axes>"
            ]
          },
          "metadata": {
            "needs_background": "light"
          },
          "output_type": "display_data"
        }
      ],
      "source": [
        "train, test = split_data(df.iloc[p + h:, :].copy(), '01-09-2017')\n",
        "\n",
        "plt.figure( figsize=( 15, 7 ))\n",
        "plt.xlabel('Время')\n",
        "plt.ylabel('Цены нефти (недельный набор)')\n",
        "plt.plot(train.index.get_level_values('Дата'), train[TARGET], label='train data' )\n",
        "plt.plot(test.index.get_level_values('Дата'), test[TARGET], label='test data')\n",
        "plt.title( 'Тестовые и тренировочные данные' )\n",
        "plt.legend()\n",
        "plt.show()"
      ]
    },
    {
      "cell_type": "code",
      "execution_count": null,
      "metadata": {
        "id": "0wu68jmszDPQ",
        "outputId": "95a28b2b-3dd6-4c52-b767-d9256ea9415e"
      },
      "outputs": [
        {
          "data": {
            "text/plain": [
              "(279, 212)"
            ]
          },
          "execution_count": 414,
          "metadata": {},
          "output_type": "execute_result"
        }
      ],
      "source": [
        "train.shape"
      ]
    },
    {
      "cell_type": "code",
      "execution_count": null,
      "metadata": {
        "scrolled": true,
        "id": "SIATnEEFzDPQ",
        "outputId": "406dd1bc-bbbc-4b36-c2fd-0a71bb830aa3"
      },
      "outputs": [
        {
          "data": {
            "text/plain": [
              "(137, 212)"
            ]
          },
          "execution_count": 415,
          "metadata": {},
          "output_type": "execute_result"
        }
      ],
      "source": [
        "test.shape"
      ]
    },
    {
      "cell_type": "code",
      "execution_count": null,
      "metadata": {
        "id": "GT0EwypJzDPR",
        "outputId": "82410a93-0769-49a1-a661-228fad419a4a"
      },
      "outputs": [
        {
          "data": {
            "text/plain": [
              "416"
            ]
          },
          "execution_count": 416,
          "metadata": {},
          "output_type": "execute_result"
        }
      ],
      "source": [
        "train.shape[0]+test.shape[0]"
      ]
    },
    {
      "cell_type": "code",
      "execution_count": null,
      "metadata": {
        "id": "I80d-v_gzDPR",
        "outputId": "0438d03a-1cd6-425f-e4f1-ef1c8ffe78f6"
      },
      "outputs": [
        {
          "data": {
            "text/plain": [
              "(416, 150)"
            ]
          },
          "execution_count": 417,
          "metadata": {},
          "output_type": "execute_result"
        }
      ],
      "source": [
        "X_new.shape"
      ]
    },
    {
      "cell_type": "code",
      "execution_count": null,
      "metadata": {
        "id": "GVRkAU6szDPR"
      },
      "outputs": [],
      "source": [
        "X_train =X_new[:train.shape[0], :]\n",
        "y_train =y[:train.shape[0], 0]\n",
        "X_test =X_new[train.shape[0]:, :]\n",
        "y_test =y[train.shape[0]:, 0]"
      ]
    },
    {
      "cell_type": "code",
      "execution_count": null,
      "metadata": {
        "id": "j0L5Ue1mzDPR",
        "outputId": "89fcad1d-bcb6-4d8e-fad4-b413a5688ed3"
      },
      "outputs": [
        {
          "data": {
            "text/plain": [
              "(279, 150)"
            ]
          },
          "execution_count": 419,
          "metadata": {},
          "output_type": "execute_result"
        }
      ],
      "source": [
        "X_train.shape"
      ]
    },
    {
      "cell_type": "code",
      "execution_count": null,
      "metadata": {
        "id": "OmQCYb1SzDPR",
        "outputId": "092b0299-ed0e-42bd-9bea-0669f49903f6"
      },
      "outputs": [
        {
          "data": {
            "text/plain": [
              "(137, 150)"
            ]
          },
          "execution_count": 420,
          "metadata": {},
          "output_type": "execute_result"
        }
      ],
      "source": [
        "X_test.shape"
      ]
    },
    {
      "cell_type": "code",
      "execution_count": null,
      "metadata": {
        "id": "BkeD5S1xzDPS",
        "outputId": "5ceac521-a5a2-4e1f-c607-8ba7412256d1"
      },
      "outputs": [
        {
          "data": {
            "text/plain": [
              "416"
            ]
          },
          "execution_count": 421,
          "metadata": {},
          "output_type": "execute_result"
        }
      ],
      "source": [
        "X_train.shape[0] + X_test.shape[0]"
      ]
    },
    {
      "cell_type": "code",
      "execution_count": null,
      "metadata": {
        "id": "ZdMO1tcyzDPS"
      },
      "outputs": [],
      "source": [
        "from sklearn.ensemble import GradientBoostingRegressor"
      ]
    },
    {
      "cell_type": "code",
      "execution_count": null,
      "metadata": {
        "id": "xcnj1xMJzDPS"
      },
      "outputs": [],
      "source": [
        "model_g = GradientBoostingRegressor(max_depth=5, random_state=0, n_estimators=100)"
      ]
    },
    {
      "cell_type": "markdown",
      "metadata": {
        "id": "1RVz66pdzDPS"
      },
      "source": [
        "Запускаем модели и смотрим , что они построят на наших примерах."
      ]
    },
    {
      "cell_type": "code",
      "execution_count": null,
      "metadata": {
        "id": "4l4BcF8YzDPS",
        "outputId": "cb86ec03-4415-4de8-fb0b-c8be5a5fbd3d"
      },
      "outputs": [
        {
          "data": {
            "text/plain": [
              "GradientBoostingRegressor(max_depth=5, random_state=0)"
            ]
          },
          "execution_count": 424,
          "metadata": {},
          "output_type": "execute_result"
        }
      ],
      "source": [
        "model_g.fit( X_train, y_train )"
      ]
    },
    {
      "cell_type": "code",
      "execution_count": null,
      "metadata": {
        "id": "Vc8e5yCjzDPT"
      },
      "outputs": [],
      "source": [
        "y_test_pred_g = model_g.predict(X_test)"
      ]
    },
    {
      "cell_type": "code",
      "execution_count": null,
      "metadata": {
        "id": "z1drQlMCzDPT",
        "outputId": "026f0d8a-db5b-4381-e19a-1d1a5001a1ea"
      },
      "outputs": [
        {
          "data": {
            "image/png": "[encoded data removed]",
            "text/plain": [
              "<Figure size 1080x504 with 1 Axes>"
            ]
          },
          "metadata": {
            "needs_background": "light"
          },
          "output_type": "display_data"
        }
      ],
      "source": [
        "plt.figure( figsize=( 15, 7 ))\n",
        "\n",
        "plt.xlabel('Время')\n",
        "plt.ylabel('Дифференциальная разница цены нефти (недельный набор)')\n",
        "plt.plot(test.index, y_test_pred_g, label='predict GB data' )\n",
        "plt.plot(test.index, y_test, label='test data')\n",
        "\n",
        "plt.legend()\n",
        "plt.title('h=1, p=52')\n",
        "plt.show()"
      ]
    },
    {
      "cell_type": "code",
      "execution_count": null,
      "metadata": {
        "id": "jBp8IIjFzDPT"
      },
      "outputs": [],
      "source": [
        "def mean_absolute_percentage_error(y_true, y_pred): \n",
        "    y_true, y_pred = np.array(y_true), np.array(y_pred)\n",
        "    return np.mean(np.abs((y_true - y_pred) / y_true)) * 100"
      ]
    },
    {
      "cell_type": "code",
      "execution_count": null,
      "metadata": {
        "id": "lFXDcnRKzDPT",
        "outputId": "08efe3a4-5d48-4e75-b504-a2e2c17e1ee2"
      },
      "outputs": [
        {
          "name": "stdout",
          "output_type": "stream",
          "text": [
            "ошибка градиентного бустинга MAPE :   9.737159637341078 %\n"
          ]
        }
      ],
      "source": [
        "er_g = mean_absolute_percentage_error(y_true=scl_target.inverse_transform(y_test),\n",
        "                                      y_pred = scl_target.inverse_transform(y_test_pred_g))\n",
        "\n",
        "print('ошибка градиентного бустинга MAPE :  ', er_g,'%')"
      ]
    },
    {
      "cell_type": "markdown",
      "metadata": {
        "id": "pe_63KH9zDPU"
      },
      "source": [
        "Анализ на отсутствие корреляции с последующим ответом (проверяем не делаем ли предсказание в стиле \"завтра==сегодня\")"
      ]
    },
    {
      "cell_type": "code",
      "execution_count": null,
      "metadata": {
        "id": "biWER5OozDPU"
      },
      "outputs": [],
      "source": [
        "def corr_lag_plot(y_test, y_test_pred_g, lag=10):\n",
        "    lag=10\n",
        "    p_cor=[np.corrcoef(y_test, y_test_pred_g)[1,0]]\n",
        "    for i in range(lag):\n",
        "        c=np.corrcoef(y_test[:-(i+1)], y_test_pred_g[(i+1):])[1,0]\n",
        "        p_cor.append(c)    \n",
        "\n",
        "    plt.plot(np.array(p_cor) )  \n",
        "    plt.xlabel('лаг корреляции')\n",
        "    plt.ylabel('cor_coeff')\n",
        "    plt.title('корреляция цели и предсказаний с лагом просмотра')\n",
        "    plt.show()"
      ]
    },
    {
      "cell_type": "code",
      "execution_count": null,
      "metadata": {
        "id": "eJ0zLeYfzDPU",
        "outputId": "df7d192a-d14e-43a1-cfc5-f224c22c0a62"
      },
      "outputs": [
        {
          "data": {
            "image/png": "[encoded data removed]",
            "text/plain": [
              "<Figure size 432x288 with 1 Axes>"
            ]
          },
          "metadata": {
            "needs_background": "light"
          },
          "output_type": "display_data"
        }
      ],
      "source": [
        "corr_lag_plot(y_test, y_test_pred_g)"
      ]
    },
    {
      "cell_type": "code",
      "execution_count": null,
      "metadata": {
        "id": "XbGyK_VxzDPU"
      },
      "outputs": [],
      "source": [
        "from sklearn.model_selection import RandomizedSearchCV"
      ]
    },
    {
      "cell_type": "code",
      "execution_count": null,
      "metadata": {
        "id": "sk6VgwfIzDPU"
      },
      "outputs": [],
      "source": [
        "def report(results, n_top=3):\n",
        "    for i in range(1, n_top + 1):\n",
        "        candidates = np.flatnonzero(results['rank_test_score'] == i)\n",
        "        for candidate in candidates:\n",
        "            print(\"Model with rank: {0}\".format(i))\n",
        "            print(\"Mean validation score: {0:.3f} (std: {1:.3f})\".format(\n",
        "                  results['mean_test_score'][candidate],\n",
        "                  results['std_test_score'][candidate]))\n",
        "            print(\"Parameters: {0}\".format(results['params'][candidate]))\n",
        "            print(\"\")"
      ]
    },
    {
      "cell_type": "code",
      "execution_count": null,
      "metadata": {
        "scrolled": false,
        "id": "WqEnGQOazDPV",
        "outputId": "ab5e5ce4-62a4-459b-e01c-6a998f8eb452"
      },
      "outputs": [
        {
          "name": "stderr",
          "output_type": "stream",
          "text": [
            "C:\\Users\\Me\\Anaconda3\\lib\\site-packages\\sklearn\\model_selection\\_search.py:849: FutureWarning: The parameter 'iid' is deprecated in 0.22 and will be removed in 0.24.\n",
            "  \"removed in 0.24.\", FutureWarning\n"
          ]
        },
        {
          "name": "stdout",
          "output_type": "stream",
          "text": [
            "Model with rank: 1\n",
            "Mean validation score: 0.210 (std: 0.340)\n",
            "Parameters: {'n_estimators': 100, 'max_depth': 3}\n",
            "\n",
            "Model with rank: 2\n",
            "Mean validation score: 0.158 (std: 0.336)\n",
            "Parameters: {'n_estimators': 1200, 'max_depth': 3}\n",
            "\n",
            "Model with rank: 3\n",
            "Mean validation score: 0.040 (std: 0.443)\n",
            "Parameters: {'n_estimators': 500, 'max_depth': 3}\n",
            "\n"
          ]
        }
      ],
      "source": [
        "param_dist = {\"max_depth\": [3, 2, 10, 14, 5], \n",
        "              \"n_estimators\":[100, 200, 300 ,400, 500, 1000, 1200, 1500]}\n",
        "\n",
        "#  randomized search\n",
        "n_iter_search = 10\n",
        "\n",
        "model_gr = GradientBoostingRegressor()\n",
        "random_search = RandomizedSearchCV(model_gr, param_distributions=param_dist, n_iter=n_iter_search, cv=5, iid=False)\n",
        "random_search.fit(X_train, y_train)\n",
        "report(random_search.cv_results_)"
      ]
    },
    {
      "cell_type": "markdown",
      "metadata": {
        "id": "0tZRZmiWzDPV"
      },
      "source": [
        "Выбираем модель с рангом 1. {'n_estimators': 100, 'max_depth': 3} (в одном из запусков RandomizedSearchCV был лучший резльтат) и проведем ее обучение на тренировочном наборе."
      ]
    },
    {
      "cell_type": "code",
      "execution_count": null,
      "metadata": {
        "id": "yTSGBkAUzDPV",
        "outputId": "69c3192a-a66a-4fb4-a336-67df2ce4ca9e"
      },
      "outputs": [
        {
          "name": "stdout",
          "output_type": "stream",
          "text": [
            "ошибка градиентного бустинга MAPE :   11.342890488864809 %\n"
          ]
        }
      ],
      "source": [
        "model_g_best = GradientBoostingRegressor(max_depth=3,  n_estimators=100)\n",
        "model_g_best.fit(X_train, y_train) \n",
        "y_test_pred_g = model_g_best.predict(X_test)\n",
        "\n",
        "er_g = mean_absolute_percentage_error(y_true=scl_target.inverse_transform(y_test),\n",
        "                                      y_pred = scl_target.inverse_transform(y_test_pred_g))\n",
        "print('ошибка градиентного бустинга MAPE :  ', er_g,'%')"
      ]
    },
    {
      "cell_type": "markdown",
      "metadata": {
        "id": "pFDVGni0zDPV"
      },
      "source": [
        "NB! Ошибка до грида была меньше!"
      ]
    },
    {
      "cell_type": "code",
      "execution_count": null,
      "metadata": {
        "id": "ZkPPwYfAzDPW",
        "outputId": "2978424f-6c3b-4b72-c3af-ee6398f95641"
      },
      "outputs": [
        {
          "data": {
            "image/png": "[encoded data removed]",
            "text/plain": [
              "<Figure size 432x288 with 1 Axes>"
            ]
          },
          "metadata": {
            "needs_background": "light"
          },
          "output_type": "display_data"
        }
      ],
      "source": [
        "corr_lag_plot(y_test, y_test_pred_g)"
      ]
    },
    {
      "cell_type": "code",
      "execution_count": null,
      "metadata": {
        "id": "Ed5dyZXQzDPW",
        "outputId": "05cb278e-ccaa-4a84-c4f1-1dda2837dea7"
      },
      "outputs": [
        {
          "data": {
            "image/png": "[encoded data removed]",
            "text/plain": [
              "<Figure size 1080x504 with 1 Axes>"
            ]
          },
          "metadata": {
            "needs_background": "light"
          },
          "output_type": "display_data"
        }
      ],
      "source": [
        "plt.figure( figsize=( 15, 7 ))\n",
        "\n",
        "plt.xlabel('Время')\n",
        "plt.ylabel('Дифференциальная разница цены нефти (недельный набор)')\n",
        "plt.plot(test.index, y_test_pred_g, label='predict GB data' )\n",
        "plt.plot(test.index, y_test, label='test data')\n",
        "\n",
        "plt.legend()\n",
        "plt.title('h=1, p=52')\n",
        "plt.show()"
      ]
    },
    {
      "cell_type": "markdown",
      "metadata": {
        "id": "Ghh2xHXEzDPW"
      },
      "source": [
        "### Задание №5"
      ]
    },
    {
      "cell_type": "markdown",
      "metadata": {
        "id": "dg1gekZazDPW"
      },
      "source": [
        "5. Сделайте вывод о поведении ошибки предсказания ряда в сравнении с прямым прогнозированием."
      ]
    },
    {
      "cell_type": "markdown",
      "metadata": {
        "id": "167DSdrtzDPX"
      },
      "source": [
        "К сожелению, сравнить модели не получится, так как в прошлом задании я \"пожадничал\" и использовал р=2 и 7 признаков для обучения. ((("
      ]
    },
    {
      "cell_type": "code",
      "execution_count": null,
      "metadata": {
        "id": "x4m0p5bTzDPX"
      },
      "outputs": [],
      "source": [
        ""
      ]
    }
  ],
  "metadata": {
    "kernelspec": {
      "display_name": "Python 3",
      "language": "python",
      "name": "python3"
    },
    "language_info": {
      "codemirror_mode": {
        "name": "ipython",
        "version": 3
      },
      "file_extension": ".py",
      "mimetype": "text/x-python",
      "name": "python",
      "nbconvert_exporter": "python",
      "pygments_lexer": "ipython3",
      "version": "3.7.3"
    },
    "colab": {
      "name": "HW 5.ipynb",
      "provenance": [],
      "include_colab_link": true
    }
  },
  "nbformat": 4,
  "nbformat_minor": 0
}